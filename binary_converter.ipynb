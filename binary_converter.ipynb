{
  "nbformat": 4,
  "nbformat_minor": 0,
  "metadata": {
    "colab": {
      "name": "binary_converter.ipynb",
      "provenance": [],
      "collapsed_sections": [],
      "authorship_tag": "ABX9TyOuMaxb2sxefWpLEL6wNbVU",
      "include_colab_link": true
    },
    "kernelspec": {
      "name": "python3",
      "display_name": "Python 3"
    }
  },
  "cells": [
    {
      "cell_type": "markdown",
      "metadata": {
        "id": "view-in-github",
        "colab_type": "text"
      },
      "source": [
        "<a href=\"https://colab.research.google.com/github/ContextLab/storytelling-with-data-binary-converter/blob/master/binary_converter.ipynb\" target=\"_parent\"><img src=\"https://colab.research.google.com/assets/colab-badge.svg\" alt=\"Open In Colab\"/></a>"
      ]
    },
    {
      "cell_type": "markdown",
      "metadata": {
        "id": "uYs7koNfGeZQ",
        "colab_type": "text"
      },
      "source": [
        "# Storytelling with Data Assignment 3: Binary converter\n",
        "\n",
        "## Overview\n",
        "\n",
        "This assignment is intended to:\n",
        "- Give you some practice writing basic code in Python\n",
        "- Introduce you to Google Colaboratory and Jupyter Notebooks\n",
        "- Introduce you to the process of submitting an assignment using GitHub\n",
        "\n",
        "Prior to starting this assignment, you should work through the material in [Module 3](https://github.com/ContextLab/storytelling-with-data/blob/master/slides/outline.md#module-3-python-and-jupyter-notebooks-as-a-medium-for-data-storytelling).\n",
        "\n",
        "You will be writing a function called `convert` that accepts a non-negative integer (1, 3004, 28, etc.) as input and returns the [binary representation of that number](https://en.wikipedia.org/wiki/Binary_number#Counting_in_binary) as an output.  For example, calling\n",
        "```\n",
        "convert(10)\n",
        "```\n",
        "should return the string `'1010'`.  The assignment instructions in the remainder of this notebook will take you through the steps of writing and testing your function.\n",
        "\n",
        "If you have not already done so, you should formally [accept this assignment](https://classroom.github.com/a/6eTaFkVe) so that you are able to edit and submit it when you are ready.\n"
      ]
    },
    {
      "cell_type": "markdown",
      "metadata": {
        "id": "YU533_Y3IjWU",
        "colab_type": "text"
      },
      "source": [
        "# Beginner approach\n",
        "\n",
        "If you are new to computer programming, I suggest that you follow the *Beginner approach* outlined in this cell.  If you already have some programming experience, or if you are seeking an additional challenge, consider trying the *Experienced approach* or *Challenge problem* instead (or in addition).\n",
        "\n",
        "## High-level overview\n",
        "\n",
        "The simplest way to convert a non-negative integer `n` into binary string is begin by writing a helper function that increments the binary representation of a number by 1.  In other words, the string `'0'` will become `'1'` and the string `'111'` will become `'1000'`, and so on.  Once this `increment` function is written, converting a number into a binary string is simple: start with the string `'0'`, call your `increment` function `n` times, and return the result.\n",
        "\n",
        "## Increment function\n",
        "\n",
        "Counting in binary (base 2) works just like \"normal\" counting (in base 10).  You start with the rightmost digit and increment it by 1.  If the rightmost digit is a 0, you simply change it to a 1 and then you're done (e.g., `'1000'` becomes `'1001'`).  If the rightmost digit is a 1, then you need to change one or more digits in higher-order positions as illustrated in this animation:\n",
        "\n",
        "![height:50px](https://upload.wikimedia.org/wikipedia/commons/thumb/7/75/Binary_counter.gif/220px-Binary_counter.gif)\n",
        "\n",
        "The full algorithm for the increment function for the binary string `b` goes like this:\n",
        "1. Set `y` to the empty string (`''`)\n",
        "2. Set `incremented` to `False` (this will track whether we've incremented the number yet or not)\n",
        "3. Loop through each of the characters in `b` in reverse order.  We'll call the current character `x`.\n",
        "4. If `incremented` is `True`, append `x` to the beginning of `y` and then continue with the next iteration of the loop.\n",
        "5. If `x` is `1`, append `'0'` to the beginning of `y` and then continue with the next iteration of the loop.\n",
        "6. If `x` is `0`, append `'1'` to the beginning of `y`, set `incremented` to `True`, and then continue with the next iteration of the loop.\n",
        "7. After the loop exits, append a `1` to the beginning of `y` if `incremented` is still `False.\n",
        "8. Return `y`\n",
        "\n",
        "Study the animation and then try to work through some examples on paper to make sure you understand how this function works.\n",
        "\n",
        "## Reversing a string\n",
        "\n",
        "The trickiest part of the `increment` function is looping \"backwards\" through the characters in `b`.  You can use Python's [slice notation](https://stackoverflow.com/questions/509211/understanding-slice-notation) to do this efficiently.  The following loop will print out each character in `b`, in reverse order:\n",
        "```python\n",
        "for x in b[len(b)::-1]:\n",
        "  print(x)\n",
        "```\n",
        "In your `increment` function you can modify that loop to implement the algorithm described above.\n",
        "\n",
        "## The `range` function\n",
        "\n",
        "In your `convert` function (which should accept a non-negative integer and returns a string representation of that number in binary), you'll need to run the `increment` helper function `n` times.  The following example uses Python's `range` function to print out the string `'Hello!'` 10 times:\n",
        "```python\n",
        "for i in range(10):\n",
        "  print('Hello!')\n",
        "```\n",
        "You can modify this loop to run `n` times (and to call the `increment` function each time) in order to set up your `convert` function.\n",
        "\n",
        "## Input checks\n",
        "\n",
        "If the user passes an invalid input to your function, your function should print out a useful error message and trigger an `Exception`.  For example, if the user calls `convert(-10)` you might raise an error with the message `'input must be non-negative'`.  Or if the input isn't an integer, you might raise an error with the message `'input must be an integer'`.  You should use `assert` statements at the beginning of your `convert` function to check that the user has provided your function with a valid input.\n",
        "\n",
        "## Generating examples\n",
        "\n",
        "The built-in Python function `bin` converts integers to their binary representations. You can use this to generate examples of correct inputs-- for any non-negative integer `n`, `str(bin(n))[2:]` will return a string of the binary representation of `n`. Note that you should *not* use the `bin` function to implement `convert`; the point of this assignment is for you to implement the function yourself, not to find built-in functions.\n",
        "\n",
        "\n",
        "\n"
      ]
    },
    {
      "cell_type": "code",
      "metadata": {
        "id": "dofUXgetGPEW",
        "colab_type": "code",
        "colab": {}
      },
      "source": [
        "def convert(n):\n",
        "  #assert statements go here!\n",
        "\n",
        "  def increment(b):\n",
        "    pass\n",
        "    # fill in your definition of the increment function here!\n",
        "  \n",
        "  #fill in the rest of your function here\n",
        "  pass"
      ],
      "execution_count": 0,
      "outputs": []
    },
    {
      "cell_type": "markdown",
      "metadata": {
        "id": "25246yCtbWBe",
        "colab_type": "text"
      },
      "source": [
        "# Tests\n",
        "\n",
        "Once you've written your function, you should test it out to ensure that it is behaving as you expect.  Good tests include:\n",
        "- Spot checking: verify that you get the correct answers for several hand-picked examples that test different aspects of your function.\n",
        "- Edge cases: if there are certain conditions or cases where you forsee potential difficulties, test them as well.\n",
        "- Input checking: verify that your code gracefully handles \"bad\" inputs"
      ]
    },
    {
      "cell_type": "code",
      "metadata": {
        "id": "gpB4zFytcAT9",
        "colab_type": "code",
        "colab": {
          "base_uri": "https://localhost:8080/",
          "height": 52
        },
        "outputId": "6a82b76a-8b12-4f8a-83be-5b86f3a813fa"
      },
      "source": [
        "#spot checks\n",
        "assert convert(0) == '0', 'failed to convert 0 correctly'\n",
        "assert convert(1) == '1', 'failed to convert 1 correctly'\n",
        "assert convert(2) == '10', 'failed to convert 2 correctly'\n",
        "assert convert(4) == '100', 'failed to convert 4 correctly'\n",
        "assert convert(10) == '1010', 'failed to convert 10 correctly'\n",
        "assert convert(100) == '1100100', 'failed to convert 100 correctly'\n",
        "print('spot checks passed!')\n",
        "\n",
        "#edge cases\n",
        "assert convert(10.00) == '1010', 'failed to handle floats (case 1)'\n",
        "assert convert(3.14 - 0.14) == '11', 'failed to handle floats (case 2)'\n",
        "print('edge cases passed!')"
      ],
      "execution_count": 69,
      "outputs": [
        {
          "output_type": "stream",
          "text": [
            "spot checks passed!\n",
            "edge cases passed!\n"
          ],
          "name": "stdout"
        }
      ]
    },
    {
      "cell_type": "code",
      "metadata": {
        "id": "PxqL9TNedpT5",
        "colab_type": "code",
        "colab": {
          "base_uri": "https://localhost:8080/",
          "height": 287
        },
        "outputId": "bea736dc-ab39-4916-9a43-40eb2fafa1bb"
      },
      "source": [
        "#input checking-- should print an \"input must be non-negative\" error message\n",
        "convert(-100)"
      ],
      "execution_count": 70,
      "outputs": [
        {
          "output_type": "error",
          "ename": "AssertionError",
          "evalue": "ignored",
          "traceback": [
            "\u001b[0;31m---------------------------------------------------------------------------\u001b[0m",
            "\u001b[0;31mAssertionError\u001b[0m                            Traceback (most recent call last)",
            "\u001b[0;32m<ipython-input-70-755bbb91cbf6>\u001b[0m in \u001b[0;36m<module>\u001b[0;34m()\u001b[0m\n\u001b[0;32m----> 1\u001b[0;31m \u001b[0mconvert\u001b[0m\u001b[0;34m(\u001b[0m\u001b[0;34m-\u001b[0m\u001b[0;36m100\u001b[0m\u001b[0;34m)\u001b[0m\u001b[0;34m\u001b[0m\u001b[0;34m\u001b[0m\u001b[0m\n\u001b[0m",
            "\u001b[0;32m<ipython-input-67-0bd79f4633a7>\u001b[0m in \u001b[0;36mconvert\u001b[0;34m(n)\u001b[0m\n\u001b[1;32m      1\u001b[0m \u001b[0;32mdef\u001b[0m \u001b[0mconvert\u001b[0m\u001b[0;34m(\u001b[0m\u001b[0mn\u001b[0m\u001b[0;34m)\u001b[0m\u001b[0;34m:\u001b[0m\u001b[0;34m\u001b[0m\u001b[0;34m\u001b[0m\u001b[0m\n\u001b[0;32m----> 2\u001b[0;31m   \u001b[0;32massert\u001b[0m \u001b[0mn\u001b[0m \u001b[0;34m>=\u001b[0m \u001b[0;36m0\u001b[0m\u001b[0;34m,\u001b[0m \u001b[0;34m'input must be non-negative'\u001b[0m\u001b[0;34m\u001b[0m\u001b[0;34m\u001b[0m\u001b[0m\n\u001b[0m\u001b[1;32m      3\u001b[0m   \u001b[0;32massert\u001b[0m \u001b[0mn\u001b[0m \u001b[0;34m%\u001b[0m \u001b[0;36m1\u001b[0m \u001b[0;34m==\u001b[0m \u001b[0;36m0\u001b[0m\u001b[0;34m,\u001b[0m \u001b[0;34m'input must be an integer'\u001b[0m\u001b[0;34m\u001b[0m\u001b[0;34m\u001b[0m\u001b[0m\n\u001b[1;32m      4\u001b[0m \u001b[0;34m\u001b[0m\u001b[0m\n\u001b[1;32m      5\u001b[0m   \u001b[0mn\u001b[0m \u001b[0;34m=\u001b[0m \u001b[0mint\u001b[0m\u001b[0;34m(\u001b[0m\u001b[0mn\u001b[0m\u001b[0;34m)\u001b[0m\u001b[0;34m\u001b[0m\u001b[0;34m\u001b[0m\u001b[0m\n",
            "\u001b[0;31mAssertionError\u001b[0m: input must be non-negative"
          ]
        }
      ]
    },
    {
      "cell_type": "code",
      "metadata": {
        "id": "oF5YPCE8dyYb",
        "colab_type": "code",
        "colab": {
          "base_uri": "https://localhost:8080/",
          "height": 287
        },
        "outputId": "3e173a10-c1a4-4b40-9f3d-17a4475eebb7"
      },
      "source": [
        "#input checking-- should print an \"input must be an integer\" error message\n",
        "convert(5.67)"
      ],
      "execution_count": 71,
      "outputs": [
        {
          "output_type": "error",
          "ename": "AssertionError",
          "evalue": "ignored",
          "traceback": [
            "\u001b[0;31m---------------------------------------------------------------------------\u001b[0m",
            "\u001b[0;31mAssertionError\u001b[0m                            Traceback (most recent call last)",
            "\u001b[0;32m<ipython-input-71-037ecd8dea77>\u001b[0m in \u001b[0;36m<module>\u001b[0;34m()\u001b[0m\n\u001b[0;32m----> 1\u001b[0;31m \u001b[0mconvert\u001b[0m\u001b[0;34m(\u001b[0m\u001b[0;36m5.67\u001b[0m\u001b[0;34m)\u001b[0m\u001b[0;34m\u001b[0m\u001b[0;34m\u001b[0m\u001b[0m\n\u001b[0m",
            "\u001b[0;32m<ipython-input-67-0bd79f4633a7>\u001b[0m in \u001b[0;36mconvert\u001b[0;34m(n)\u001b[0m\n\u001b[1;32m      1\u001b[0m \u001b[0;32mdef\u001b[0m \u001b[0mconvert\u001b[0m\u001b[0;34m(\u001b[0m\u001b[0mn\u001b[0m\u001b[0;34m)\u001b[0m\u001b[0;34m:\u001b[0m\u001b[0;34m\u001b[0m\u001b[0;34m\u001b[0m\u001b[0m\n\u001b[1;32m      2\u001b[0m   \u001b[0;32massert\u001b[0m \u001b[0mn\u001b[0m \u001b[0;34m>=\u001b[0m \u001b[0;36m0\u001b[0m\u001b[0;34m,\u001b[0m \u001b[0;34m'input must be non-negative'\u001b[0m\u001b[0;34m\u001b[0m\u001b[0;34m\u001b[0m\u001b[0m\n\u001b[0;32m----> 3\u001b[0;31m   \u001b[0;32massert\u001b[0m \u001b[0mn\u001b[0m \u001b[0;34m%\u001b[0m \u001b[0;36m1\u001b[0m \u001b[0;34m==\u001b[0m \u001b[0;36m0\u001b[0m\u001b[0;34m,\u001b[0m \u001b[0;34m'input must be an integer'\u001b[0m\u001b[0;34m\u001b[0m\u001b[0;34m\u001b[0m\u001b[0m\n\u001b[0m\u001b[1;32m      4\u001b[0m \u001b[0;34m\u001b[0m\u001b[0m\n\u001b[1;32m      5\u001b[0m   \u001b[0mn\u001b[0m \u001b[0;34m=\u001b[0m \u001b[0mint\u001b[0m\u001b[0;34m(\u001b[0m\u001b[0mn\u001b[0m\u001b[0;34m)\u001b[0m\u001b[0;34m\u001b[0m\u001b[0;34m\u001b[0m\u001b[0m\n",
            "\u001b[0;31mAssertionError\u001b[0m: input must be an integer"
          ]
        }
      ]
    },
    {
      "cell_type": "markdown",
      "metadata": {
        "id": "48R_oC3CeAkJ",
        "colab_type": "text"
      },
      "source": [
        "# Experienced approach\n",
        "\n",
        "If you are already familiar with programming, consider challenging yourself by converting integers to binary strings using a more efficient approach.  Specifically, consider that the $n^\\mathrm{th}$ digit from the left (starting from 0) represents the $(2^n)^\\mathrm{th}$ place in the binary representation.  \n",
        "\n",
        "To begin with an example from a counting system that is likely more familiar, the decimal number `234` has a `4` in the `1`s place ($10^0$), a `3` in the `10`s place ($10^1$), and a `2` in the `100`s place ($10^2$).  Therefore the full number has a value of $(2 \\times 10^2) + (3 \\times 10^1) + (4 \\times 10^0)$.\n",
        "\n",
        "Binary counting works similarly-- the value of the binary number `1010` may be found by the sum $(1 \\times 2^3) + (0 \\times 2^2) + (1 \\times 2^1) + (0 \\times 2^0) = 8 + 2 = 10$.\n",
        "\n",
        "You can use this general reasoning to compute how many digits the binary representation will have as well as the specific digit at each position in the binary representation of any (non-negative) base-10 integer.\n",
        "\n",
        "## Hint\n",
        "\n",
        "Solving for the number of digits (and the digit values at each position) will likely require you to compute logarithms in base 2.  You can do this using the `math` library:\n",
        "```python\n",
        "import math\n",
        "\n",
        "y = math.log2(x) #y is the base-2 logarithm of x\n",
        "```\n",
        "\n",
        "Make sure your function passes the tests defined above!\n",
        "\n"
      ]
    },
    {
      "cell_type": "markdown",
      "metadata": {
        "id": "6LBuzC3JhWk_",
        "colab_type": "text"
      },
      "source": [
        "# Challenge problem\n",
        "\n",
        "As an optional challenge, try extending your `convert` function to accept an optional keyword argument, `base`.  When used in this way, `convert(n, base=b)` should return the base-b representation of `n` (as a string).\n",
        "\n",
        "Considerations:\n",
        "- Write some tests to verify that your function is working correctly.  Hint: base-10 numbers can provide some easy-to-generate examples!\n",
        "- Gracefully deal with cases where the user passes in \"bad\" bases (e.g., bases must be positive, so your function should raise an exception if `base` is not positive).\n",
        "- How well does your function process large numbers?  Can you use the `math.log` function to convert the representations efficiently?"
      ]
    }
  ]
}